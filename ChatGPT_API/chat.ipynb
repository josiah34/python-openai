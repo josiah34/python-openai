{
 "cells": [
  {
   "cell_type": "code",
   "execution_count": 22,
   "metadata": {},
   "outputs": [],
   "source": [
    "import openai \n",
    "import os \n",
    "\n"
   ]
  },
  {
   "cell_type": "code",
   "execution_count": 23,
   "metadata": {},
   "outputs": [],
   "source": [
    "response = openai.ChatCompletion.create(\n",
    "    model = 'gpt-3.5-turbo',\n",
    "    messages= [\n",
    "       {'role' : 'system', 'content': 'You are a tutor on the topic of milit ary history'},\n",
    "        {'role' : 'user', 'content': 'Hello, I am a student and I want to learn about the history of the Second World War'},\n",
    "    ]\n",
    ")"
   ]
  },
  {
   "cell_type": "code",
   "execution_count": 6,
   "metadata": {},
   "outputs": [
    {
     "data": {
      "text/plain": [
       "\"Hello! I'd be happy to help you learn about the history of the Second World War. It was a monumental event in world history, filled with significant battles, key leaders, and complex strategies. Where would you like to start?\""
      ]
     },
     "execution_count": 6,
     "metadata": {},
     "output_type": "execute_result"
    }
   ],
   "source": [
    "response['choices'][0]['message']['content']"
   ]
  },
  {
   "cell_type": "code",
   "execution_count": 52,
   "metadata": {},
   "outputs": [],
   "source": [
    "class ChatBot:\n",
    "    def __init__(self, system_prompt):\n",
    "        self.system_prompt = system_prompt\n",
    "        self.messages = [\n",
    "            {'role' : 'system', 'content': system_prompt}\n",
    "        ]\n",
    "        \n",
    "    def chat(self):\n",
    "        print(\"To terminate the chat, type 'exit'\")\n",
    "        question = ''\n",
    "        \n",
    "        while question.lower() != 'exit':\n",
    "            #User input\n",
    "            question = input(\"You: \")\n",
    "            print('\\n')\n",
    "            # Add to messages list \n",
    "            self.messages.append({'role' : 'user', 'content': question})\n",
    "            \n",
    "            response = openai.ChatCompletion.create(\n",
    "                model = 'gpt-3.5-turbo',\n",
    "                messages = self.messages\n",
    "                \n",
    "            )\n",
    "            \n",
    "            content = response['choices'][0]['message']['content']\n",
    "            print(f\"\\nChatbot: {content}\")\n",
    "            print('\\n')\n",
    "            self.messages.append({'role' : 'assistant', 'content': content})\n",
    "        "
   ]
  },
  {
   "cell_type": "code",
   "execution_count": 49,
   "metadata": {},
   "outputs": [],
   "source": [
    "history_tutor = ChatBot('You are a tutor on the topic of military history')"
   ]
  },
  {
   "cell_type": "code",
   "execution_count": 50,
   "metadata": {},
   "outputs": [
    {
     "name": "stdout",
     "output_type": "stream",
     "text": [
      "You are a tutor on the topic of military history\n"
     ]
    }
   ],
   "source": [
    "print(history_tutor.system_prompt)"
   ]
  },
  {
   "cell_type": "code",
   "execution_count": 46,
   "metadata": {},
   "outputs": [
    {
     "data": {
      "text/plain": [
       "[{'role': 'system',\n",
       "  'content': 'You are a tutor on the topic of military history'}]"
      ]
     },
     "execution_count": 46,
     "metadata": {},
     "output_type": "execute_result"
    }
   ],
   "source": [
    "history_tutor.messages"
   ]
  },
  {
   "cell_type": "code",
   "execution_count": 53,
   "metadata": {},
   "outputs": [
    {
     "name": "stdout",
     "output_type": "stream",
     "text": [
      "To terminate the chat, type 'exit'\n",
      "\n",
      "\n",
      "\n",
      "Chatbot: The Battle of the Bulge was a major offensive campaign fought during World War II from December 16, 1944, to January 25, 1945, in the Ardennes region of Belgium, Luxembourg, and Germany. It was a pivotal battle on the Western Front and one of the largest and bloodiest battles in American military history.\n",
      "\n",
      "Background:\n",
      "By late 1944, the Allies had made significant progress in their efforts to defeat Nazi Germany. However, as the German military faced mounting setbacks and dwindling resources, Adolf Hitler devised a plan to launch a surprise attack on the thinly stretched Allied front lines in the Ardennes region. This offensive aimed to split the Allied forces, capture Antwerp, and disrupt their supply lines.\n",
      "\n",
      "The Battle:\n",
      "The German offensive, led by Field Marshal Gerd von Rundstedt and codenamed Operation Wacht am Rhein (Watch on the Rhine), began on December 16, 1944. Under cover of winter weather and fog, German forces launched a massive assault along a 75-mile front, primarily targeting the American forces in the Ardennes.\n",
      "\n",
      "Initially, the German attack overwhelmed the inexperienced and exhausted American troops, creating a \"bulge\" in the Allied front line. The German forces, including infantry and armored divisions, pushed forward and encircled several American units. They hoped to cut off the key roadways and capture important supply depots.\n",
      "\n",
      "However, despite the initial success, the German offensive faced challenges. Several factors hindered the Germans, including the logistics of supplying their troops over a large distance without effective control of the skies. Additionally, the Allied command quickly assessed the situation and reacted by mobilizing reinforcements and organizing a defense.\n",
      "\n",
      "The American troops, although caught off guard, showcased resilience and determination. They fought tenaciously, frequently resorting to defensive tactics, makeshift roadblocks, and ambushes to delay the German advance. The terrain, particularly the dense forests in the Ardennes, also worked against the German armored units, limiting their mobility and reducing the impact of their superior firepower.\n",
      "\n",
      "As the battle progressed, the weather cleared, allowing Allied air superiority to neutralize the German armored units. Allied aircraft could target German positions and supply lines effectively, disrupting German logistics.\n",
      "\n",
      "By late December, the German offensive had lost its momentum. The Allied forces, under the command of General Dwight D. Eisenhower, launched a counteroffensive, pushing back the German troops and reestablishing the front lines.\n",
      "\n",
      "Aftermath:\n",
      "The Battle of the Bulge resulted in heavy losses for both sides. The Germans suffered significant casualties, lost hundreds of armored vehicles, and experienced a severe depletion of resources. The Allies also incurred substantial casualties but managed to contain the German offensive, saving the critical logistics hubs and supply lines.\n",
      "\n",
      "The battle significantly affected the course of the war. The German offensive depleted their remaining reserves and further weakened their military power. It also shattered any hope of a negotiated peace and demonstrated the resilience of the Allied forces.\n",
      "\n",
      "The Battle of the Bulge was a turning point in the war and an important victory for the Allies. It showcased their ability to withstand a major German offensive and ultimately contributed to the collapse of the German military machine. The battle remains a significant event in the history of World War II and is remembered as a testament to the endurance and courage of the American and Allied forces.\n",
      "\n",
      "\n",
      "\n",
      "\n",
      "\n",
      "Chatbot: The Battle of Stalingrad, which took place from August 23, 1942, to February 2, 1943, was a critical battle during World War II between the Axis powers, led by Nazi Germany, and the Soviet Union. It was one of the bloodiest and most brutal battles in history and had a significant impact on the outcome of the war.\n",
      "\n",
      "Background:\n",
      "In 1942, Hitler ordered an ambitious offensive to capture the strategically important city of Stalingrad, situated on the Volga River. Stalingrad served as a major industrial hub and transportation center, and its capture would have provided the Germans with a direct route to the oil-rich Caucasus region.\n",
      "\n",
      "The battle began with the German Sixth Army, commanded by General Friedrich Paulus, launching a massive assault on the city. The Soviets, led by General Vasily Chuikov, were heavily outnumbered but fiercely defended their positions.\n",
      "\n",
      "The Battle:\n",
      "The German offensive initially made rapid progress, as their forces encircled and captured large parts of the city. However, the Soviet resistance proved to be far stronger and more determined than anticipated.\n",
      "\n",
      "The Red Army adopted a strategy of urban warfare, using rubble, sewers, and tightly fortified positions to hold off the German onslaught. Despite superior firepower and air support, the German forces struggled to conquer the city street by street.\n",
      "\n",
      "As winter set in, the conditions in Stalingrad worsened, with both sides enduring extreme cold, supply shortages, and heavy casualties. The Soviet Union launched a counteroffensive with fresh reinforcements, surrounding the German Sixth Army in a massive pincer movement.\n",
      "\n",
      "The trapped German forces inside Stalingrad faced a desperate situation, cut off from supplies and reinforcements. Despite Hitler's order to fight to the last man, Paulus eventually surrendered the remaining German troops on February 2, 1943. It was a devastating defeat for Nazi Germany.\n",
      "\n",
      "Aftermath:\n",
      "The Battle of Stalingrad was a turning point in World War II. It marked the first major defeat suffered by the German military and the beginning of a series of Allied victories on the Eastern Front. The loss of the German Sixth Army and its equipment dealt a heavy blow to German morale and military capabilities.\n",
      "\n",
      "The battle was a significant victory for the Soviet Union and demonstrated their resilience and determination to defend their homeland. It boosted the morale of the Soviet people and led to greater international support for the Soviet war effort.\n",
      "\n",
      "The Battle of Stalingrad had wide-ranging consequences. It crippled Germany's ability to conduct large-scale offensives, drained their resources, and shifted the initiative in favor of the Allies. It also had a significant psychological impact, as it shattered the myth of German invincibility and marked a turning point in the war.\n",
      "\n",
      "The Battle of Stalingrad stands as a symbol of the human cost of war, with an estimated two million casualties on both sides. It has been widely studied by military historians and serves as a poignant reminder of the horrors and futility of armed conflict.\n",
      "\n",
      "\n",
      "\n",
      "\n",
      "\n",
      "Chatbot: Thank you for your questions! If you have any more in the future, feel free to ask. Goodbye and take care!\n",
      "\n",
      "\n"
     ]
    }
   ],
   "source": [
    "history_tutor.chat()"
   ]
  }
 ],
 "metadata": {
  "kernelspec": {
   "display_name": "Python 3 (ipykernel)",
   "language": "python",
   "name": "python3"
  },
  "language_info": {
   "codemirror_mode": {
    "name": "ipython",
    "version": 3
   },
   "file_extension": ".py",
   "mimetype": "text/x-python",
   "name": "python",
   "nbconvert_exporter": "python",
   "pygments_lexer": "ipython3",
   "version": "3.9.12"
  }
 },
 "nbformat": 4,
 "nbformat_minor": 2
}
