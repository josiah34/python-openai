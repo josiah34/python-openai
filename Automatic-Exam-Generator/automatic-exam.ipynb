{
 "cells": [
  {
   "cell_type": "code",
   "execution_count": 2,
   "metadata": {},
   "outputs": [],
   "source": [
    "import os \n",
    "import openai"
   ]
  },
  {
   "cell_type": "code",
   "execution_count": 5,
   "metadata": {},
   "outputs": [],
   "source": [
    "openai.api_key = os.environ['OPENAI_API_KEY']"
   ]
  },
  {
   "cell_type": "code",
   "execution_count": 6,
   "metadata": {},
   "outputs": [],
   "source": [
    "prompt = 'Give me details about the technology startup company Josiah AI Development.'\n",
    "\n",
    "\n",
    "response = openai.Completion.create(\n",
    "    engine=\"text-davinci-003\",\n",
    "    max_tokens=256,\n",
    "    prompt=prompt,\n",
    "    temperature=0.7,)\n",
    "\n",
    "\n",
    "    "
   ]
  },
  {
   "cell_type": "code",
   "execution_count": 7,
   "metadata": {},
   "outputs": [
    {
     "name": "stdout",
     "output_type": "stream",
     "text": [
      "{\n",
      "  \"id\": \"cmpl-7YFtBzj80iclgtKwzUN7cygtKaZTf\",\n",
      "  \"object\": \"text_completion\",\n",
      "  \"created\": 1688398585,\n",
      "  \"model\": \"text-davinci-003\",\n",
      "  \"choices\": [\n",
      "    {\n",
      "      \"text\": \"\\n\\nJosiah AI Development is a technology startup company based in San Francisco, California. The company was founded in 2018 by CEO and co-founder Josiah Humphreys. Josiah AI Development focuses on creating Artificial Intelligence (AI) products and services that enable businesses to make data-driven decisions. The company has developed a platform that enables businesses to access AI-driven insights, accelerate decision-making, and improve customer experiences. Josiah AI Development offers a suite of products and services that include AI-driven analytics, predictive analytics, and machine learning solutions. The company also provides AI-enabled customer support and product personalization services. Additionally, Josiah AI Development helps businesses develop customized AI-driven solutions.\",\n",
      "      \"index\": 0,\n",
      "      \"logprobs\": null,\n",
      "      \"finish_reason\": \"stop\"\n",
      "    }\n",
      "  ],\n",
      "  \"usage\": {\n",
      "    \"prompt_tokens\": 12,\n",
      "    \"completion_tokens\": 143,\n",
      "    \"total_tokens\": 155\n",
      "  }\n",
      "}\n"
     ]
    }
   ],
   "source": [
    "# An example of AI hallucinating a fake startup company in its response to the prompt\n",
    "print(response)"
   ]
  },
  {
   "cell_type": "code",
   "execution_count": 9,
   "metadata": {},
   "outputs": [],
   "source": [
    "# Giving a better prompt to prevent hallucination \n",
    "\n",
    "prompt = \"Give me details about the technology startup company Josiah AI Development. Only answer if you are 100 percent sure this company exists. Say 'This company doesn't exist' if you are not sure.'\"\n",
    "\n",
    "response = openai.Completion.create(\n",
    "    engine=\"text-davinci-003\",\n",
    "    max_tokens=256,\n",
    "    prompt=prompt,\n",
    "    temperature=0.7,)\n",
    "\n",
    "\n"
   ]
  },
  {
   "cell_type": "code",
   "execution_count": 11,
   "metadata": {},
   "outputs": [
    {
     "name": "stdout",
     "output_type": "stream",
     "text": [
      "\n",
      "\n",
      "This company doesn't exist.\n"
     ]
    }
   ],
   "source": [
    "print(response['choices'][0]['text'])"
   ]
  },
  {
   "cell_type": "code",
   "execution_count": 21,
   "metadata": {},
   "outputs": [],
   "source": [
    "# Function to create exam prompt \n",
    "\n",
    "def create_exam_prompt(topic, num_of_questions, possible_answers):\n",
    "    prompt = f\"Create a multiple choice exam about {topic} with {num_of_questions} questions.\"\\\n",
    "           + f\" The possible answers are {possible_answers}.\"\\\n",
    "           + f\" Also include the correct answer for each question using the starting string 'Correct Answer:' \"\\\n",
    "           + f\" The questions should be factual and not opinionated.\"\n",
    "    return prompt"
   ]
  },
  {
   "cell_type": "code",
   "execution_count": 17,
   "metadata": {},
   "outputs": [
    {
     "data": {
      "text/plain": [
       "\"Create a multiple choice exam about World War 2 with 5 questions. The possible answers are 4. Also include the correct answer for each question using the starting string 'Correct Answer:' \""
      ]
     },
     "execution_count": 17,
     "metadata": {},
     "output_type": "execute_result"
    }
   ],
   "source": [
    "create_exam_prompt('World War 2', 5, 4)"
   ]
  },
  {
   "cell_type": "code",
   "execution_count": 22,
   "metadata": {},
   "outputs": [],
   "source": [
    "response = openai.Completion.create(\n",
    "    engine=\"text-davinci-003\",\n",
    "    max_tokens=256,\n",
    "    prompt=create_exam_prompt('World War 2', 5, 4),\n",
    "    temperature=0.7,)"
   ]
  },
  {
   "cell_type": "code",
   "execution_count": 24,
   "metadata": {},
   "outputs": [
    {
     "data": {
      "text/plain": [
       "'\\n\\nQ1: What year did World War 2 begin?\\nA. 1936\\nB. 1939\\nC. 1940\\nD. 1942\\nCorrect Answer: B. 1939\\n\\nQ2: Which country was not part of the Axis Powers?\\nA. Germany\\nB. Italy \\nC. Japan\\nD. France\\nCorrect Answer: D. France\\n\\nQ3: Who was the leader of Germany during World War 2?\\nA. Joseph Stalin\\nB. Adolf Hitler\\nC. Franklin Roosevelt\\nD. Winston Churchill\\nCorrect Answer: B. Adolf Hitler\\n\\nQ4: How did the United States enter World War 2?\\nA. By signing the Treaty of Versailles\\nB. By launching an invasion of Germany\\nC. By declaring war on Japan\\nD. By joining the League of Nations\\nCorrect Answer: C. By declaring war on Japan\\n\\nQ5: What was the name of the top-secret Allied operation to develop an atomic bomb?\\nA. Manhattan Project\\nB. D-Day\\nC. Operation Overlord\\nD. Operation Barbarossa\\nCorrect Answer: A. Manhattan Project'"
      ]
     },
     "execution_count": 24,
     "metadata": {},
     "output_type": "execute_result"
    }
   ],
   "source": [
    "response['choices'][0]['text']"
   ]
  },
  {
   "cell_type": "code",
   "execution_count": 25,
   "metadata": {},
   "outputs": [],
   "source": [
    "def create_student_view(test, num_of_questions):\n",
    "    student_view ={1: ''}\n",
    "    question_num = 1\n",
    "    for line in test.split(\"\\n\"):\n",
    "        if not line.startswith(\"Correct Answer:\"):\n",
    "            student_view[question_num] += line + \"\\n\"\n",
    "        else:\n",
    "            if question_num < num_of_questions:\n",
    "                question_num += 1\n",
    "                student_view[question_num] = ''\n",
    "    return student_view\n",
    "\n",
    "\n"
   ]
  },
  {
   "cell_type": "code",
   "execution_count": 29,
   "metadata": {},
   "outputs": [],
   "source": [
    "result = create_student_view(response['choices'][0]['text'], 5)"
   ]
  },
  {
   "cell_type": "code",
   "execution_count": 30,
   "metadata": {},
   "outputs": [
    {
     "name": "stdout",
     "output_type": "stream",
     "text": [
      "1\n",
      "\n",
      "\n",
      "Q1: What year did World War 2 begin?\n",
      "A. 1936\n",
      "B. 1939\n",
      "C. 1940\n",
      "D. 1942\n",
      "\n",
      "2\n",
      "\n",
      "Q2: Which country was not part of the Axis Powers?\n",
      "A. Germany\n",
      "B. Italy \n",
      "C. Japan\n",
      "D. France\n",
      "\n",
      "3\n",
      "\n",
      "Q3: Who was the leader of Germany during World War 2?\n",
      "A. Joseph Stalin\n",
      "B. Adolf Hitler\n",
      "C. Franklin Roosevelt\n",
      "D. Winston Churchill\n",
      "\n",
      "4\n",
      "\n",
      "Q4: How did the United States enter World War 2?\n",
      "A. By signing the Treaty of Versailles\n",
      "B. By launching an invasion of Germany\n",
      "C. By declaring war on Japan\n",
      "D. By joining the League of Nations\n",
      "\n",
      "5\n",
      "\n",
      "Q5: What was the name of the top-secret Allied operation to develop an atomic bomb?\n",
      "A. Manhattan Project\n",
      "B. D-Day\n",
      "C. Operation Overlord\n",
      "D. Operation Barbarossa\n",
      "\n"
     ]
    }
   ],
   "source": [
    "for key in result:\n",
    "    print(key)\n",
    "    print(result[key])"
   ]
  },
  {
   "cell_type": "code",
   "execution_count": 33,
   "metadata": {},
   "outputs": [],
   "source": [
    "def extract_correct_answers(test, num_of_questions):\n",
    "    correct_answers ={1: ''}\n",
    "    question_num = 1\n",
    "    for line in test.split(\"\\n\"):\n",
    "        if line.startswith(\"Correct Answer:\"):\n",
    "            correct_answers[question_num] += line + \"\\n\"\n",
    "            if question_num < num_of_questions:\n",
    "                question_num += 1\n",
    "                correct_answers[question_num] = ''\n",
    "    return correct_answers\n"
   ]
  },
  {
   "cell_type": "code",
   "execution_count": 60,
   "metadata": {},
   "outputs": [
    {
     "name": "stdout",
     "output_type": "stream",
     "text": [
      "1\n",
      "Correct Answer: B. 1939\n",
      "\n",
      "2\n",
      "Correct Answer: D. France\n",
      "\n",
      "3\n",
      "Correct Answer: B. Adolf Hitler\n",
      "\n",
      "4\n",
      "Correct Answer: C. By declaring war on Japan\n",
      "\n",
      "5\n",
      "Correct Answer: A. Manhattan Project\n",
      "\n"
     ]
    }
   ],
   "source": [
    "correct_answers = extract_correct_answers(response['choices'][0]['text'], 5)\n",
    "\n",
    "for key in correct_answers:\n",
    "    print(key)\n",
    "    print(correct_answers[key])"
   ]
  },
  {
   "cell_type": "code",
   "execution_count": 36,
   "metadata": {},
   "outputs": [],
   "source": [
    "def take(student_view):\n",
    "    student_answers = {}\n",
    "    for question, question_view in student_view.items():\n",
    "        print(question_view)\n",
    "        student_answers[question] = input(\"Enter your answer: \")\n",
    "    return student_answers"
   ]
  },
  {
   "cell_type": "code",
   "execution_count": 55,
   "metadata": {},
   "outputs": [
    {
     "name": "stdout",
     "output_type": "stream",
     "text": [
      "\n",
      "\n",
      "Q1: What year did World War 2 begin?\n",
      "A. 1936\n",
      "B. 1939\n",
      "C. 1940\n",
      "D. 1942\n",
      "\n",
      "\n",
      "Q2: Which country was not part of the Axis Powers?\n",
      "A. Germany\n",
      "B. Italy \n",
      "C. Japan\n",
      "D. France\n",
      "\n",
      "\n",
      "Q3: Who was the leader of Germany during World War 2?\n",
      "A. Joseph Stalin\n",
      "B. Adolf Hitler\n",
      "C. Franklin Roosevelt\n",
      "D. Winston Churchill\n",
      "\n",
      "\n",
      "Q4: How did the United States enter World War 2?\n",
      "A. By signing the Treaty of Versailles\n",
      "B. By launching an invasion of Germany\n",
      "C. By declaring war on Japan\n",
      "D. By joining the League of Nations\n",
      "\n",
      "\n",
      "Q5: What was the name of the top-secret Allied operation to develop an atomic bomb?\n",
      "A. Manhattan Project\n",
      "B. D-Day\n",
      "C. Operation Overlord\n",
      "D. Operation Barbarossa\n",
      "\n"
     ]
    }
   ],
   "source": [
    "student_answers = take(result)"
   ]
  },
  {
   "cell_type": "code",
   "execution_count": 39,
   "metadata": {},
   "outputs": [
    {
     "data": {
      "text/plain": [
       "'B'"
      ]
     },
     "execution_count": 39,
     "metadata": {},
     "output_type": "execute_result"
    }
   ],
   "source": [
    "correct_answers[1][16]"
   ]
  },
  {
   "cell_type": "code",
   "execution_count": 67,
   "metadata": {},
   "outputs": [],
   "source": [
    "def get_grade(student_answers, correct_answers):\n",
    "    grade = 0\n",
    "    total_questions = len(student_answers)\n",
    "    for question, answer in student_answers.items():\n",
    "        if answer.upper() == correct_answers[question][16]:\n",
    "            grade += 1\n",
    "            \n",
    "    percentage = grade / total_questions * 100\n",
    "    if percentage >= 60:\n",
    "        return f\"Correct Answers: {grade}/{len(answer)} You passed with a {percentage} %\"\n",
    "    else:\n",
    "        return f\"Correct Answers: {grade}/{len(student_answers)} You failed with a {percentage} %\"\n"
   ]
  },
  {
   "cell_type": "code",
   "execution_count": 68,
   "metadata": {},
   "outputs": [
    {
     "name": "stdout",
     "output_type": "stream",
     "text": [
      "Correct Answers: 2/5 You failed with a 40.0 %\n"
     ]
    }
   ],
   "source": [
    "print(get_grade(student_answers, correct_answers))"
   ]
  }
 ],
 "metadata": {
  "kernelspec": {
   "display_name": "Python 3 (ipykernel)",
   "language": "python",
   "name": "python3"
  },
  "language_info": {
   "codemirror_mode": {
    "name": "ipython",
    "version": 3
   },
   "file_extension": ".py",
   "mimetype": "text/x-python",
   "name": "python",
   "nbconvert_exporter": "python",
   "pygments_lexer": "ipython3",
   "version": "3.9.12"
  },
  "orig_nbformat": 4
 },
 "nbformat": 4,
 "nbformat_minor": 2
}
